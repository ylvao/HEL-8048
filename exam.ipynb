{
 "cells": [
  {
   "cell_type": "markdown",
   "metadata": {},
   "source": [
    "# Pokémon Changes Through the Generations\n"
   ]
  },
  {
   "cell_type": "markdown",
   "metadata": {},
   "source": [
    "This document contains the code for the project. In my personal opinion I feel like recent Pokémon are bigger and more fancy than they used to be. Therefore, does this project concider the weights of all the Pokémon that have excited, and we will test the hypothesis of whether Pokémon are getting larger (by weight) over time. \n",
    "\n",
    "The entire project can be found on my [github](https://github.com/ylvao/HEL-8048)."
   ]
  },
  {
   "cell_type": "code",
   "execution_count": 5,
   "metadata": {},
   "outputs": [
    {
     "data": {
      "application/vnd.jupyter.widget-view+json": {
       "model_id": "9b36987a785f49ccbf97caeff0bddb24",
       "version_major": 2,
       "version_minor": 0
      },
      "text/plain": [
       "VBox(children=(HTML(value='<center> <img\\nsrc=https://www.kaggle.com/static/images/site-logo.png\\nalt=\\'Kaggle…"
      ]
     },
     "metadata": {},
     "output_type": "display_data"
    }
   ],
   "source": [
    "import kagglehub\n",
    "\n",
    "# Using the Kaggle API requires a token including a username and key\n",
    "kagglehub.login() "
   ]
  },
  {
   "cell_type": "code",
   "execution_count": 6,
   "metadata": {},
   "outputs": [],
   "source": [
    "# Importing the necessary python libraries\n",
    "import csv\n",
    "import matplotlib.pyplot as plt\n",
    "import numpy as np\n",
    "import pandas as pd\n",
    "import seaborn as sns"
   ]
  },
  {
   "cell_type": "code",
   "execution_count": 7,
   "metadata": {},
   "outputs": [],
   "source": [
    "# Download CVS data file from Kaggle and saving the download path to be used later\n",
    "dataset_path = kagglehub.dataset_download('rounakbanik/pokemon', path='pokemon.csv')\n",
    "\n",
    "\n",
    "# Can also use the CVS data file included in this repository by uncommenting the line bellow in the notebook\n",
    "# dataset_path = 'pokemon.csv'"
   ]
  },
  {
   "cell_type": "code",
   "execution_count": 8,
   "metadata": {},
   "outputs": [],
   "source": [
    "# Makes a list of all different types of Pokémon\n",
    "types = []\n",
    "with open(dataset_path, newline='') as data:\n",
    "    reader = csv.DictReader(data)\n",
    "    for row in reader:\n",
    "        types.append(row['type1'])\n",
    "types = list(set(types))\n",
    "\n",
    "\n",
    "# Initialize dictionary for generations with corresponding weights\n",
    "gen_weights  = {str(i): [] for i in range(1, 8)}\n",
    "\n",
    "# Initialize dictionary for type with corresponding weights            \n",
    "type_weights = {i: [] for i in types}\n",
    "\n",
    "# Read CSV and populate the above dictionaries with the weights and respective generation\n",
    "with open(dataset_path, newline='') as data:\n",
    "    reader = csv.DictReader(data)\n",
    "    for row in reader:\n",
    "        gen = row['generation']\n",
    "        if gen in gen_weights and row['weight_kg']:\n",
    "            gen_weights[gen].append(float(row['weight_kg']))\n",
    "        type = row['type1']\n",
    "        if type in type_weights and row['weight_kg']:\n",
    "            type_weights[type].append(float(row['weight_kg']))\n",
    "            \n"
   ]
  },
  {
   "cell_type": "markdown",
   "metadata": {},
   "source": [
    "## Introducing functions used in the project"
   ]
  },
  {
   "cell_type": "code",
   "execution_count": null,
   "metadata": {},
   "outputs": [],
   "source": [
    "# Crate function to emove top and right axis for visualization purposes\n",
    "def remove_top_right_axis():\n",
    "    '''\n",
    "    Removes the top and right spines (borders) from the current plot.\n",
    "\n",
    "    This function modifies the current active axis (`plt.gca()`) by hiding\n",
    "    the top and right spines, making the plot visually cleaner.\n",
    "\n",
    "    Usage:\n",
    "    Call this function after creating a plot to remove unnecessary borders.\n",
    "\n",
    "    Example:\n",
    "    >>> import matplotlib.pyplot as plt\n",
    "    >>> plt.plot([1, 2, 3], [4, 5, 6])\n",
    "    >>> remove_top_right_axis()\n",
    "    >>> plt.show()\n",
    "    '''\n",
    "    ax = plt.gca()\n",
    "    ax.spines['top'].set_visible(False)\n",
    "    ax.spines['right'].set_visible(False)\n",
    "    \n",
    "# Function to compute mean\n",
    "def find_mean(lst):\n",
    "    '''\n",
    "    Calculates the mean (average) of a given list of numbers.\n",
    "\n",
    "    Parameters:\n",
    "    lst (list): A list of numerical values.\n",
    "\n",
    "    Returns:\n",
    "    float: The mean of the list if it is not empty.\n",
    "    int: Returns 0 if the list is empty.\n",
    "\n",
    "    Example:\n",
    "    >>> find_mean([1, 2, 3, 4, 5])\n",
    "    3.0\n",
    "    >>> find_mean([])\n",
    "    0\n",
    "    '''\n",
    "    if len(lst) != 0:\n",
    "        return sum(lst) / len(lst)\n",
    "    else:\n",
    "        return 0\n",
    "\n",
    "# Function to compute standard deviation\n",
    "def find_stdev(lst):\n",
    "    '''\n",
    "    Calculates the standard deviation of a given list of numbers.\n",
    "\n",
    "    Standard deviation measures the dispersion of data points relative \n",
    "    to the mean.\n",
    "\n",
    "    Parameters:\n",
    "    lst (list): A list of numerical values.\n",
    "\n",
    "    Returns:\n",
    "    float: The standard deviation of the list if it is not empty.\n",
    "    int: Returns 0 if the list is empty.\n",
    "\n",
    "    Example:\n",
    "    >>> find_stdev([1, 2, 3, 4, 5])\n",
    "    1.4142135623730951\n",
    "    >>> find_stdev([])\n",
    "    0\n",
    "    '''\n",
    "    if len(lst) != 0:\n",
    "        mean = find_mean(lst)\n",
    "        variance = sum((x - mean) ** 2 for x in lst) / len(lst)\n",
    "        return np.sqrt(variance)\n",
    "    else:\n",
    "        return 0 \n",
    "\n",
    "# Calculate the median value depending on wheather the list is odd or even\n",
    "def find_median(lst):\n",
    "    '''\n",
    "    Calculates the median of a given list of numbers.\n",
    "\n",
    "    The median is the middle value of a sorted list. If the list has an odd number \n",
    "    of elements, the middle element is returned. If the list has an even number \n",
    "    of elements, the average of the two middle elements is returned.\n",
    "\n",
    "    Parameters:\n",
    "    lst (list): A list of numerical values.\n",
    "\n",
    "    Returns:\n",
    "    float: The median value of the list.\n",
    "\n",
    "    Example:\n",
    "    >>> find_median([3, 1, 2])\n",
    "    2\n",
    "    >>> find_median([4, 1, 3, 2])\n",
    "    2.5\n",
    "    '''\n",
    "    if len(lst) == 0:\n",
    "        return None  # Edge case: empty list\n",
    "\n",
    "    lst.sort()  # Ensure the list is sorted before finding the median\n",
    "\n",
    "    n = len(lst)\n",
    "    mid = n // 2  # Middle index\n",
    "\n",
    "    if n % 2 == 1:  # Odd number of elements\n",
    "        return lst[mid]\n",
    "    else:  # Even number of elements\n",
    "        return (lst[mid] + lst[mid - 1]) / 2\n",
    "\n",
    "\n",
    "# Function to filter Pokémon that are 400 kg or more\n",
    "def filter_heavy_pokemon(gen_weights, max_weight=400):\n",
    "    '''\n",
    "    Filters Pokémon by weight, keeping only those that meet or exceed the given weight threshold.\n",
    "\n",
    "    Parameters:\n",
    "    gen_weights (dict): A dictionary where keys are Pokémon generations (e.g., 'Gen 1', 'Gen 2')\n",
    "                        and values are lists of Pokémon weights in that generation.\n",
    "    max_weight (int, optional): The minimum weight (in any unit) a Pokémon must have \n",
    "                                 to be included in the filtered result. Default is 400.\n",
    "\n",
    "    Returns:\n",
    "    dict: A dictionary containing only Pokémon that meet or exceed the weight threshold, \n",
    "          with the same generational structure as the input.\n",
    "\n",
    "    Example:\n",
    "    >>> gen_weights = {\n",
    "    ...     \"Gen 1\": [200, 500, 350, 800],\n",
    "    ...     \"Gen 2\": [100, 450, 600, 300]\n",
    "    ... }\n",
    "    >>> filter_heavy_pokemon(gen_weights, max_weight=400)\n",
    "    {'Gen 1': [500, 800], 'Gen 2': [450, 600]}\n",
    "    '''\n",
    "    return {gen: [weight for weight in weights if weight >= max_weight] for gen, weights in gen_weights.items()}\n",
    "\n",
    "# Function to create subplots with the correct customization\n",
    "def create_pie(values, title, nr, axes, labels, colors):\n",
    "    '''\n",
    "    Creates a pie chart on a specified subplot axis.\n",
    "\n",
    "    Parameters:\n",
    "    values (dict): A dictionary where keys represent categories, and values represent \n",
    "                   numerical data to be visualized in the pie chart.\n",
    "    title (str): The title of the pie chart.\n",
    "    nr (int): The index of the subplot in the axes array where the pie chart should be drawn.\n",
    "    axes (array-like): An array of subplot axes (e.g., created using `plt.subplots()`).\n",
    "    labels (list): A list of category labels for the pie chart.\n",
    "    colors (list): A list of colors corresponding to each category in the pie chart.\n",
    "\n",
    "    Returns:\n",
    "    None: The function modifies the given `axes` by adding a pie chart.\n",
    "\n",
    "    Example:\n",
    "    >>> import matplotlib.pyplot as plt\n",
    "    >>> fig, axes = plt.subplots(1, 2)  # Create two subplots\n",
    "    >>> values = {'A': 30, 'B': 50, 'C': 20}\n",
    "    >>> labels = list(values.keys())\n",
    "    >>> colors = ['red', 'blue', 'green']\n",
    "    >>> create_pie(values, \"Example Pie Chart\", 0, axes, labels, colors)\n",
    "    >>> plt.show()\n",
    "    '''\n",
    "    axes[nr].pie(list(values.values()), labels=labels, autopct='%1.1f%%', textprops={'fontsize': 12}, startangle=140, colors=colors)\n",
    "    axes[nr].set_title(title)\n"
   ]
  },
  {
   "cell_type": "markdown",
   "metadata": {},
   "source": [
    "## Scatter Plot of all Weights"
   ]
  },
  {
   "cell_type": "code",
   "execution_count": null,
   "metadata": {},
   "outputs": [],
   "source": [
    "for i in range(1, 8):\n",
    "    plt.scatter([f'Gen {i}' for j in range(len(gen_weights[str(i)]))], gen_weights[str(i)], color=\"#138086\", alpha=0.2) \n",
    "    \n",
    "remove_top_right_axis()\n",
    "plt.ylabel(\"Weight [kg]\")\n",
    "plt.title(\"Pokémon Weights per Generation\")\n",
    "plt.grid(True)\n",
    "plt.show()"
   ]
  },
  {
   "cell_type": "markdown",
   "metadata": {},
   "source": [
    "Based on the plot above, it seems like Gen 7 has some heavier Pokémon compared to the other generations. In addition Gen 3 has a heavy one."
   ]
  },
  {
   "cell_type": "markdown",
   "metadata": {},
   "source": [
    "## Density plot of weights\n"
   ]
  },
  {
   "cell_type": "code",
   "execution_count": null,
   "metadata": {},
   "outputs": [],
   "source": [
    "# Generate density plot for each generation's weights\n",
    "for i in range(1, 8):\n",
    "    sns.kdeplot(gen_weights[str(i)], label=f'Gen {i}', fill=True, alpha=0.2)\n",
    "\n",
    "# Customize plot\n",
    "remove_top_right_axis()\n",
    "plt.xlim(0, 400)\n",
    "plt.ylabel(\"Density\")\n",
    "plt.title(\"Pokémon Weights per Generation\")\n",
    "# Legend shows the annotation quare in the upper right\n",
    "plt.legend(title=\"Generation\")\n",
    "plt.show()\n"
   ]
  },
  {
   "cell_type": "markdown",
   "metadata": {},
   "source": [
    "Here, it seems like Gen 7 has a larger distribution of heavier Pokémon, however, this figure is not that good. Bellow, all density distributions are shown individually, stacked above each other."
   ]
  },
  {
   "cell_type": "code",
   "execution_count": null,
   "metadata": {},
   "outputs": [],
   "source": [
    "# Create subplots (7 rows, 1 column)\n",
    "fig, axes = plt.subplots(nrows=7, ncols=1, figsize=(8, 12))\n",
    "\n",
    "# Plot density for each generation in separate subplots\n",
    "for i, ax in enumerate(axes, 1):\n",
    "    sns.kdeplot(gen_weights[str(i)], ax=ax, fill=True, color=\"#138086\", alpha=0.3)\n",
    "    ax.set_title(f'Generation {i}')\n",
    "    ax.set_ylabel(\"Density\")\n",
    "    ax.set_xlabel(\"Weights [kg]\")\n",
    "    ax.spines['top'].set_visible(False)\n",
    "    ax.spines['right'].set_visible(False)\n",
    "    ax.set_xlim([0, 400])\n",
    "    ax.set_ylim([0, 0.012])\n",
    "    ax.grid(True)\n",
    "\n",
    "# Customize \n",
    "plt.tight_layout()\n",
    "plt.show()\n"
   ]
  },
  {
   "cell_type": "markdown",
   "metadata": {},
   "source": [
    "All generations have a wigher density of Pokémon around 25 kg. Gen 7 seems to have the most spread out weight distribution and more heavier Pokémon."
   ]
  },
  {
   "cell_type": "markdown",
   "metadata": {},
   "source": [
    "## Bar Plot Showing the Average Weights"
   ]
  },
  {
   "cell_type": "code",
   "execution_count": null,
   "metadata": {},
   "outputs": [],
   "source": [
    "# Compute mean weights and standars deviations of the different generations\n",
    "x_vals = np.arange(1, 8)\n",
    "means  = [find_mean(gen_weights[str(i)]) for i in range(1, 8)]\n",
    "stdevs   = [find_stdev(gen_weights[str(i)]) for i in range(1, 8)]\n",
    "\n",
    "# Fit a linear trend line\n",
    "coeffs = np.polyfit(x_vals, means, 1)  # Find a fitting linear polynomial and return the coefficients\n",
    "trend_line = np.poly1d(coeffs)  # Create the polynomial function\n",
    "\n",
    "# Create x and y values for the plotting of the trend line\n",
    "x_trend = np.linspace(1, 7, 100)\n",
    "y_trend = trend_line(x_trend)\n",
    "\n",
    "# Plot trend line\n",
    "plt.plot(x_trend, y_trend, color='#6C5B7B', linestyle='--', label=\"Trend Line\")\n",
    "\n",
    "# Create bar plot of the avg. weights \n",
    "plt.bar(x_vals, means, tick_label=[f'Gen {i}' for i in range(1, 8)], color=\"#138086\", alpha=0.7, label=\"Mean Weight\")\n",
    "\n",
    "# Plot errorbars using the standard deviation\n",
    "# plt.errorbar(x_vals, means, yerr=stdevs, fmt='o', capsize=5, capthick=2, elinewidth=1, color=\"gray\", label=\"Standard deviation\")\n",
    "\n",
    "# Labels and title\n",
    "plt.ylabel(\"Mean weight [kg]\")\n",
    "plt.title(\"Mean Pokémon Weight per Generation\")\n",
    "\n",
    "# Some custumization \n",
    "remove_top_right_axis()\n",
    "plt.legend()\n",
    "plt.show()\n"
   ]
  },
  {
   "cell_type": "markdown",
   "metadata": {},
   "source": [
    "Based on the average weights, it seems like the total trend is that the Pokémon are getting heavier, however, Gens 5 and 6, has an average weight more similar to Gens 1 and 2. The standard deviation for these means can be showed by uncommenting the plt.errorbar line in the notebook. However, it is by default left out, as the standard deviation is very large and thus uninformative."
   ]
  },
  {
   "cell_type": "markdown",
   "metadata": {},
   "source": [
    "## Bar Plot of the Median Weights"
   ]
  },
  {
   "cell_type": "code",
   "execution_count": null,
   "metadata": {},
   "outputs": [],
   "source": [
    "# Compute medial weights og the different generations\n",
    "x_vals = np.arange(1, 8)\n",
    "medians = [find_median(gen_weights[str(i)]) for i in range(1, 8)]\n",
    "\n",
    "# Fit a linear trend line\n",
    "coeffs = np.polyfit(x_vals, medians, 1)  # Find a fitting linear polynomial and return the coefficients\n",
    "trend_line = np.poly1d(coeffs)  # Create the polynomial function\n",
    "\n",
    "# Create x and y values for the plotting of the trend line\n",
    "x_trend = np.linspace(1, 7, 100)\n",
    "y_trend = trend_line(x_trend)\n",
    "\n",
    "# Plot trend line\n",
    "plt.plot(x_trend, y_trend, color='#6C5B7B', linestyle='--', label=\"Trend Line\")\n",
    "\n",
    "# Create bar plot of the median weights \n",
    "plt.bar(x_vals, medians, tick_label=[f'Gen {i}' for i in range(1, 8)], color=\"#138086\", alpha=0.7, label=\"Median Weight\")\n",
    "\n",
    "\n",
    "# Some custumization \n",
    "plt.ylabel(\"Median weight [kg]\")\n",
    "plt.title(\"Median Pokémon Weight per Generation\")\n",
    "plt.ylim([0, 40])\n",
    "remove_top_right_axis()\n",
    "\n",
    "plt.legend()\n",
    "plt.show()\n"
   ]
  },
  {
   "cell_type": "markdown",
   "metadata": {},
   "source": [
    "The median weight shows the oposite trend than the mean, showed earlier. This plot suggests that there are more light weight Pokémon in the newer generations, but the heavier Pokémon are heavier. However, the difference in weight between the median is much smaller than that of the mean, showing an overall smaller change of median weight between the different generations."
   ]
  },
  {
   "cell_type": "markdown",
   "metadata": {},
   "source": [
    "## Population over 400 kg"
   ]
  },
  {
   "cell_type": "code",
   "execution_count": null,
   "metadata": {},
   "outputs": [],
   "source": [
    "# Filter Pokémon\n",
    "filtered_gen_weights = filter_heavy_pokemon(gen_weights)\n",
    "filtered_gen_weights[\"5\"] = []  # If no Pokémon in Gen 5 meet criteria, use empty list\n",
    "\n",
    "# Compute mean weights per generation\n",
    "heavy_means = [find_mean(filtered_gen_weights[str(i)]) for i in range(1, 8)]\n",
    "\n",
    "# Compute standard deviations \n",
    "heavy_stdevs = [find_stdev(filtered_gen_weights[str(i)]) for i in range(1, 8)]\n",
    "\n",
    "# Making x-axis labels not only numbers\n",
    "x_vals = [f'Gen {i}' for i in range(1, 8)]\n",
    "\n",
    "# Plot bar chart of mean weights\n",
    "plt.bar(x_vals, heavy_means, color=\"#138086\", alpha=.8, label = \"Mean weight\")\n",
    "\n",
    "# Error bar showing the standard deviation of the mean    \n",
    "plt.errorbar(x_vals, heavy_means, yerr=heavy_stdevs, fmt='.', \n",
    "             capsize=5, capthick=2, elinewidth=1, color=\"#355C7D\", label=\"Std. dev.\")\n",
    "\n",
    "# Scatter plot of all Pokémon weights per generation\n",
    "for i in range(1, 8):\n",
    "    plt.scatter([f'Gen {i}' for _ in filtered_gen_weights[str(i)]], filtered_gen_weights[str(i)], color=\"#6C5B7B\")\n",
    "\n",
    "\n",
    "# Customization\n",
    "remove_top_right_axis()\n",
    "plt.ylim(400, 1050)\n",
    "plt.ylabel(\"Weight [kg]\")\n",
    "plt.title(\"Pokémon Weight (over 400 kg) per Generation\")\n",
    "plt.legend()\n",
    "plt.show()"
   ]
  },
  {
   "cell_type": "markdown",
   "metadata": {},
   "source": [
    "This plot only considers the Pokémon over 400 kg. Here it is clear that Gen 7 has the heaviest Pokémon, with Gen 3 being the generation with the second heaviest Pokémon. Based on the mean and standard deviation, it does seem like Gen 7 have a higher concentration of heaviness past the 400 kg mark, that the others. Note that ideally one would have more data for the standard deviation, but in this case it works well to show the distribution of the data points."
   ]
  },
  {
   "cell_type": "markdown",
   "metadata": {},
   "source": [
    "## Total Weight"
   ]
  },
  {
   "cell_type": "code",
   "execution_count": null,
   "metadata": {},
   "outputs": [],
   "source": [
    "# Makes dictionary with the total weights of each generation\n",
    "total_weights = {gen: sum(weights) for gen, weights in gen_weights.items()}\n",
    "\n",
    "# Makes dictionary with total number of pokemon in each generation\n",
    "total_count = {gen: len(amount) for gen, amount in gen_weights.items()}\n",
    "\n",
    "# Define custom color palette with grey and purple tones\n",
    "colors = [\"#F8B195\", \"#F67280\", \"#C06C84\", \"#6C5B7B\", \"#355C7D\", \"#138086\", \"#a9a9a9\"]\n",
    "    \n",
    "# Extracting labels and values for the pie chart\n",
    "labels = [f'Gen {i}' for i in range(1, 8)]\n",
    "\n",
    "# Create subplots with 1 row and 2 columns for better visualization\n",
    "fig, axes = plt.subplots(1, 2, figsize=(12, 6))\n",
    "\n",
    "# Creates the respective charts for total weight and count\n",
    "create_pie(total_weights, \"Total Pokémon Weight Distribution by Generation\", 0, axes, labels, colors)\n",
    "create_pie(total_count, \"Total Pokémon Count Distribution by Generation\", 1, axes, labels, colors)\n"
   ]
  },
  {
   "cell_type": "markdown",
   "metadata": {},
   "source": [
    "The pie charts above shows us the total weight and amout of Pokémon within each generation. Here we can see that the total weight and count are often similar, for example does Gen 6 have a low total weight and at the same time few Pokémon compared to the other generations. The biggest difference is seen in Gen 7 as expected based on the awerage weights. "
   ]
  },
  {
   "cell_type": "markdown",
   "metadata": {},
   "source": [
    "## Correlation between weight, generation and type"
   ]
  },
  {
   "cell_type": "code",
   "execution_count": null,
   "metadata": {},
   "outputs": [],
   "source": [
    "# Plot Pokémon Weights per Type\n",
    "plt.figure(figsize=(20, 6))  # Set figure size\n",
    "\n",
    "# Create scatter plot for the weights of each Pokémon type\n",
    "for type_name in types:\n",
    "    plt.scatter(\n",
    "        [type_name] * len(type_weights[type_name]),  # Use type names as x-axis labels\n",
    "        type_weights[type_name], color=\"#138086\", alpha=0.25\n",
    "    )\n",
    "\n",
    "# Customization\n",
    "remove_top_right_axis()\n",
    "plt.ylabel(\"Weight [kg]\")\n",
    "plt.title(\"Pokémon Weights per Type\")\n",
    "\n",
    "# Rotate and capitalize x-axis labels for better readability\n",
    "plt.xticks(ticks=range(len(types)), labels=[t.capitalize() for t in types], rotation=45)\n",
    "plt.grid(True)\n",
    "plt.show()"
   ]
  },
  {
   "cell_type": "markdown",
   "metadata": {},
   "source": [
    "This scatter plot is used as a reference to make sure the correlation matrix bellow makes sense."
   ]
  },
  {
   "cell_type": "code",
   "execution_count": null,
   "metadata": {},
   "outputs": [],
   "source": [
    "# Decides to try pandas for this part\n",
    "df = pd.read_csv(dataset_path)\n",
    "\n",
    "# Select relevant columns\n",
    "df_selected = df[[\"generation\", \"weight_kg\", \"type1\"]].copy()\n",
    "\n",
    "# Convert categorical variable 'type1' to numerical using one-hot encoding\n",
    "df_encoded = pd.get_dummies(df_selected, columns=[\"type1\"])\n",
    "\n",
    "# Rename columns for better readability\n",
    "col_rename = {\n",
    "    \"generation\": \"Generation\",\n",
    "    \"weight_kg\": \"Weight (kg)\"\n",
    "}\n",
    "\n",
    "# Rename type1 categories dynamically\n",
    "for col in df_encoded.columns:\n",
    "    if col.startswith(\"type1_\"):\n",
    "        new_name = col.replace(\"type1_\", \"\").capitalize() + \" Type\"\n",
    "        col_rename[col] = new_name\n",
    "\n",
    "# Rename the columns based on \n",
    "df_encoded.rename(columns=col_rename, inplace=True)\n",
    "\n",
    "# Compute the correlation matrix\n",
    "correlation_matrix = df_encoded.corr()\n",
    "\n",
    "# Allows for removal of upper triangle\n",
    "mask = np.triu(np.ones_like(correlation_matrix, dtype=bool))\n",
    "\n",
    "# Plot the heatmap\n",
    "plt.figure(figsize=(12, 8))\n",
    "sns.heatmap(correlation_matrix, annot=True, cmap=\"magma\", fmt=\".2f\", linewidths=0.5, mask=mask)\n",
    "plt.title(\"Correlation Matrix of Pokémon Attributes\")\n",
    "plt.show()"
   ]
  },
  {
   "cell_type": "markdown",
   "metadata": {},
   "source": [
    "The correlation matrix is based on the covariance between different variables, where 1 indicates a highly positive correlation and -1 indicates a highly negative correlation. Based on this figure, it is a slight positive correlation between the generations and the weight (~0.09), suggesting that the later generations are in fact slightly heavier. We can also see that steel and ground type Pokémons seems to be the heavier types, which makes sense concidering the previous scatter plot. And unsurprisingly, grass and bug types are the lightest.\n",
    "\n",
    "A lot of fun information can be found here, for example, there is a quite large negative correlation between a Pokémon being both a grass and normal type, suggesting that usually if the Pokémon is a grass type it is rarely also a normal type. However, there is overall little correlation between the different types of Pokémon."
   ]
  }
 ],
 "metadata": {
  "kernelspec": {
   "display_name": "hel8048",
   "language": "python",
   "name": "python3"
  },
  "language_info": {
   "codemirror_mode": {
    "name": "ipython",
    "version": 3
   },
   "file_extension": ".py",
   "mimetype": "text/x-python",
   "name": "python",
   "nbconvert_exporter": "python",
   "pygments_lexer": "ipython3",
   "version": "3.12.8"
  }
 },
 "nbformat": 4,
 "nbformat_minor": 2
}
